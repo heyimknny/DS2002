{
  "nbformat": 4,
  "nbformat_minor": 0,
  "metadata": {
    "colab": {
      "provenance": [],
      "collapsed_sections": [
        "5rmfLYp02uFN",
        "41A1Pn4W7at7",
        "d3Rtag9r89Cd",
        "ODFyalzfb_dZ",
        "saimqA-MdlNe",
        "y-qHIiprEIcn"
      ],
      "authorship_tag": "ABX9TyMFTFfNob/yVP/i1X2SNcvC",
      "include_colab_link": true
    },
    "kernelspec": {
      "name": "python3",
      "display_name": "Python 3"
    },
    "language_info": {
      "name": "python"
    }
  },
  "cells": [
    {
      "cell_type": "markdown",
      "metadata": {
        "id": "view-in-github",
        "colab_type": "text"
      },
      "source": [
        "<a href=\"https://colab.research.google.com/github/heyimknny/DS2002/blob/main/Finance_API_HW.ipynb\" target=\"_parent\"><img src=\"https://colab.research.google.com/assets/colab-badge.svg\" alt=\"Open In Colab\"/></a>"
      ]
    },
    {
      "cell_type": "markdown",
      "source": [
        "#Finance API Tutorial - Homework Assignment - Kenneth Nguyen\n",
        "## Objective\n",
        "\n",
        "In this assignment, you will:\n",
        "1. Request stock data for two or more stock symbols.\n",
        "2. Extract and display only the Stock Ticker, Company Name, and Current Market Price.\n",
        "3. Allow the user to call another endpoint with a module and store the response in a\n",
        "DataFrame."
      ],
      "metadata": {
        "id": "5rmfLYp02uFN"
      }
    },
    {
      "cell_type": "code",
      "source": [
        "import requests\n",
        "import pandas as pd\n",
        "\n",
        "# Manually define API key [will delete on final submission]\n",
        "API_KEY = \"\""
      ],
      "metadata": {
        "id": "2tZ6B8fy3-Jk"
      },
      "execution_count": null,
      "outputs": []
    },
    {
      "cell_type": "markdown",
      "source": [
        "## Task 1: Fetch Basic Stock Data\n",
        "- Prompt the user to input two or more stock symbols.\n",
        "- Use the API to fetch data for the given symbols.\n",
        "- Extract and display only the Stock Ticker, Company Name, and Current Market Price."
      ],
      "metadata": {
        "id": "41A1Pn4W7at7"
      }
    },
    {
      "cell_type": "code",
      "source": [
        "BASE_URL = \"https://yfapi.net/v6/finance/quote\""
      ],
      "metadata": {
        "id": "hUCG5_O-_ukL"
      },
      "execution_count": null,
      "outputs": []
    },
    {
      "cell_type": "code",
      "source": [
        "# Use the API to fetch data for the given symbols.\n",
        "def get_stock_data(symbols):\n",
        "    querystring = {\"symbols\": \",\".join(symbols)}\n",
        "    headers = {'x-api-key': API_KEY}\n",
        "    response = requests.get(BASE_URL, headers=headers, params=querystring)\n",
        "\n",
        "    if response.status_code == 200:\n",
        "        data = response.json()[\"quoteResponse\"][\"result\"]\n",
        "        stock_info = [{\n",
        "            \"Stock Ticker\": item[\"symbol\"],\n",
        "            \"Company\": item.get(\"shortName\", \"N/A\"),\n",
        "            \"Current Market Price\": f\"${item.get('regularMarketPrice', 'N/A')}\"\n",
        "        } for item in data]\n",
        "\n",
        "        # Extract and display only the Stock Ticker, Company Name, and Current Market Price.\n",
        "        for stock in stock_info:\n",
        "            print(f\"Stock Ticker: {stock['Stock Ticker']}, Company: {stock['Company']}, Current Market Price: {stock['Current Market Price']}\")\n",
        "\n",
        "    else:\n",
        "        print(\"Failed to fetch stock data\")"
      ],
      "metadata": {
        "id": "9eOsfWeV7SUo"
      },
      "execution_count": null,
      "outputs": []
    },
    {
      "cell_type": "markdown",
      "source": [
        "Example Input:\n",
        "\n",
        "AAPL, MSFT\n",
        "\n",
        "Example Output:\n",
        "\n",
        "Stock Ticker: AAPL, Company: Apple Inc., Current Market Price: $175.23\n",
        "\n",
        "Stock Ticker: MSFT, Company: Microsoft Corp., Current Market Price: $310.45"
      ],
      "metadata": {
        "id": "eRgCERyl22JN"
      }
    },
    {
      "cell_type": "code",
      "source": [
        "# Prompt the user to input two or more stock symbols.\n",
        "# NOTE: Requires a comma AND a space between stock symbols.\n",
        "stock_symbols = input(\"Enter stock symbols separated by commas: \").upper().split(', ')\n",
        "get_stock_data(stock_symbols)"
      ],
      "metadata": {
        "colab": {
          "base_uri": "https://localhost:8080/"
        },
        "id": "SeaOQI2e7TPj",
        "outputId": "62884da4-7b49-4eb3-b6b1-60ce24c6e358"
      },
      "execution_count": null,
      "outputs": [
        {
          "output_type": "stream",
          "name": "stdout",
          "text": [
            "Enter stock symbols separated by commas: AAPL, MSFT\n",
            "Stock Ticker: AAPL, Company: Apple Inc., Current Market Price: $247.04\n",
            "Stock Ticker: MSFT, Company: Microsoft Corporation, Current Market Price: $397.9\n"
          ]
        }
      ]
    },
    {
      "cell_type": "markdown",
      "source": [
        "## Task 2.1: Fetch Additional Data Using Modules\n",
        "- Allow the user to choose a module from the Quote Summary Endpoint.\n",
        "Find:\n",
        "52 Week High\n",
        "52 Week Low\n",
        "Return on Assets (ROA)\n",
        "- Make an API request using the chosen module.\n",
        "- Convert the response into a Pandas DataFrame.\n",
        "- Display the DataFrame."
      ],
      "metadata": {
        "id": "d3Rtag9r89Cd"
      }
    },
    {
      "cell_type": "code",
      "source": [
        "BASE_URL = \"https://yfapi.net/v11/finance/quoteSummary\""
      ],
      "metadata": {
        "id": "afI3X8DUaXna"
      },
      "execution_count": null,
      "outputs": []
    },
    {
      "cell_type": "code",
      "source": [
        "# Allow the user to choose a module from the Quote Summary Endpoint.\n",
        "def get_additional_data(symbols, metric):\n",
        "    module_map = {\n",
        "        \"52 Week High\": (\"summaryDetail\", \"fiftyTwoWeekHigh\"),\n",
        "        \"52 Week Low\": (\"summaryDetail\", \"fiftyTwoWeekLow\"),\n",
        "        \"Return on Assets\": (\"financialData\", \"returnOnAssets\")\n",
        "    }\n",
        "\n",
        "    if metric not in module_map:\n",
        "        print(\"Invalid metric selected.\")\n",
        "        return\n",
        "\n",
        "    module_name, metric_key = module_map[metric]\n",
        "    stock_data = []\n",
        "\n",
        "    for symbol in symbols:\n",
        "        querystring = {\"modules\": module_name}\n",
        "        headers = {'x-api-key': API_KEY}\n",
        "\n",
        "        response = requests.get(f\"{BASE_URL}/{symbol}\", headers=headers, params=querystring)\n",
        "\n",
        "        if response.status_code == 200:\n",
        "            data = response.json().get(\"quoteSummary\", {}).get(\"result\", [])\n",
        "\n",
        "            if not data or module_name not in data[0]:\n",
        "                print(f\"No data found for {symbol}.\")\n",
        "                continue\n",
        "\n",
        "            stock_info = {\n",
        "                \"Stock Ticker\": symbol,\n",
        "                metric: data[0][module_name].get(metric_key, {}).get(\"raw\", \"N/A\")\n",
        "            }\n",
        "            stock_data.append(stock_info)\n",
        "\n",
        "        else:\n",
        "            print(f\"Failed to fetch data for {symbol}. Status Code: {response.status_code}\")\n",
        "\n",
        "    if stock_data:\n",
        "        df = pd.DataFrame(stock_data)\n",
        "        print(df)\n",
        "    else:\n",
        "        print(\"No valid data to display.\")"
      ],
      "metadata": {
        "id": "qIcO_uq39EgD"
      },
      "execution_count": null,
      "outputs": []
    },
    {
      "cell_type": "code",
      "source": [
        "# Prompt the user to input two or more stock symbols and then choose a module\n",
        "symbols = input(\"Enter stock symbols separated by commas: \").upper().split(',')\n",
        "metric = input(\"Choose a metric (52 Week High, 52 Week Low, Return on Assets): \")\n",
        "get_additional_data(symbols, metric)"
      ],
      "metadata": {
        "colab": {
          "base_uri": "https://localhost:8080/"
        },
        "id": "E0pqp9BIBmXA",
        "outputId": "3953023e-ea79-458c-d6c0-eebf8746283c"
      },
      "execution_count": null,
      "outputs": [
        {
          "output_type": "stream",
          "name": "stdout",
          "text": [
            "Enter stock symbols separated by commas: AAPL\n",
            "Choose a metric (52 Week High, 52 Week Low, Return on Assets): 52 Week High\n",
            "  Stock Ticker  52 Week High\n",
            "0         AAPL         260.1\n"
          ]
        }
      ]
    },
    {
      "cell_type": "markdown",
      "source": [
        "## Task 2.2 Fetch Additional Data Using Modules\n",
        "Find Current Trending Stocks , Their Actual Name and Ticker and Current Price as well as their 52 high and low."
      ],
      "metadata": {
        "id": "ODFyalzfb_dZ"
      }
    },
    {
      "cell_type": "code",
      "source": [
        "TRENDING_URL = \"https://yfapi.net/v1/finance/trending/US\"\n",
        "QUOTE_SUMMARY_URL = \"https://yfapi.net/v11/finance/quoteSummary\""
      ],
      "metadata": {
        "id": "7ji9n167DKEQ"
      },
      "execution_count": null,
      "outputs": []
    },
    {
      "cell_type": "code",
      "source": [
        "def get_trending_stocks():\n",
        "    headers = {'x-api-key': API_KEY}\n",
        "    response = requests.get(TRENDING_URL, headers=headers)\n",
        "\n",
        "    if response.status_code == 200:\n",
        "        data = response.json().get(\"finance\", {}).get(\"result\", [])\n",
        "\n",
        "        if not data:\n",
        "            print(\"No trending stocks found.\")\n",
        "            return []\n",
        "\n",
        "        # grab stock symbols from trending list\n",
        "        return [item[\"symbol\"] for item in data[0][\"quotes\"]]\n",
        "\n",
        "    else:\n",
        "        print(\"Failed to fetch trending stocks.\")\n",
        "        return []\n",
        "\n",
        "def get_stock_details(symbols):\n",
        "    stock_data = []\n",
        "\n",
        "    for symbol in symbols:\n",
        "        querystring = {\"modules\": \"price,summaryDetail\"}\n",
        "        headers = {'x-api-key': API_KEY}\n",
        "        response = requests.get(f\"{QUOTE_SUMMARY_URL}/{symbol}\", headers=headers, params=querystring)\n",
        "\n",
        "        if response.status_code == 200:\n",
        "            data = response.json().get(\"quoteSummary\", {}).get(\"result\", [])\n",
        "\n",
        "            if not data:\n",
        "                print(f\"No data found for {symbol}.\")\n",
        "                continue\n",
        "\n",
        "            # get details of stocks\n",
        "            stock_info = {\n",
        "                \"Stock Ticker\": symbol,\n",
        "                \"Company\": data[0][\"price\"].get(\"longName\", \"N/A\"),\n",
        "                \"Current Price\": f\"${data[0]['price'].get('regularMarketPrice', {}).get('raw', 'N/A')}\",\n",
        "                \"52 Week High\": data[0][\"summaryDetail\"].get(\"fiftyTwoWeekHigh\", {}).get(\"raw\", \"N/A\"),\n",
        "                \"52 Week Low\": data[0][\"summaryDetail\"].get(\"fiftyTwoWeekLow\", {}).get(\"raw\", \"N/A\")\n",
        "            }\n",
        "            stock_data.append(stock_info)\n",
        "\n",
        "        else:\n",
        "            print(f\"Failed to fetch details for {symbol}. Status Code: {response.status_code}\")\n",
        "\n",
        "    if stock_data:\n",
        "        df = pd.DataFrame(stock_data)\n",
        "        print(df)\n",
        "    else:\n",
        "        print(\"No valid data to display.\")"
      ],
      "metadata": {
        "id": "qjQDAd9pcF3O"
      },
      "execution_count": null,
      "outputs": []
    },
    {
      "cell_type": "code",
      "source": [
        "trending_symbols = get_trending_stocks()\n",
        "\n",
        "if trending_symbols:\n",
        "    get_stock_details(trending_symbols)\n",
        "else:\n",
        "    print(\"No trending stocks to display.\")"
      ],
      "metadata": {
        "colab": {
          "base_uri": "https://localhost:8080/"
        },
        "id": "FIw_punpDRz3",
        "outputId": "f582df3c-3f48-45ee-ac43-757480f7f7a4"
      },
      "execution_count": null,
      "outputs": [
        {
          "output_type": "stream",
          "name": "stdout",
          "text": [
            "   Stock Ticker                                 Company Current Price  \\\n",
            "0          SMCI              Super Micro Computer, Inc.        $45.54   \n",
            "1          TSLA                             Tesla, Inc.        $302.8   \n",
            "2          LCID                       Lucid Group, Inc.         $2.61   \n",
            "3          CAVA                        CAVA Group, Inc.         $99.3   \n",
            "4          WDAY                           Workday, Inc.       $255.22   \n",
            "5          NVDA                      NVIDIA Corporation       $126.63   \n",
            "6          ONVO                 Organovo Holdings, Inc.         $1.27   \n",
            "7          LMND                          Lemonade, Inc.        $31.99   \n",
            "8          FSLR                       First Solar, Inc.       $147.46   \n",
            "9          AXON                   Axon Enterprise, Inc.       $496.65   \n",
            "10         INTU                             Intuit Inc.       $555.63   \n",
            "11          AMC        AMC Entertainment Holdings, Inc.         $3.27   \n",
            "12         CPNG                           Coupang, Inc.        $24.17   \n",
            "13         DNUT                      Krispy Kreme, Inc.         $7.13   \n",
            "14           LI                            Li Auto Inc.        $29.84   \n",
            "15         ZETA              Zeta Global Holdings Corp.         $20.6   \n",
            "16          CRM                        Salesforce, Inc.       $305.88   \n",
            "17         SMCX  Defiance Daily Target 2X Long SMCI ETF        $69.22   \n",
            "18          SRE                                  Sempra        $70.64   \n",
            "19         LUNR                Intuitive Machines, Inc.         $15.4   \n",
            "\n",
            "    52 Week High  52 Week Low  \n",
            "0         122.90       17.250  \n",
            "1         488.54      138.800  \n",
            "2           4.43        1.930  \n",
            "3         172.43       54.210  \n",
            "4         298.50      199.810  \n",
            "5         153.13       75.606  \n",
            "6           1.83        0.320  \n",
            "7          53.85       14.030  \n",
            "8         306.77      145.770  \n",
            "9         715.99      273.520  \n",
            "10        714.78      553.310  \n",
            "11         11.88        2.380  \n",
            "12         26.91       17.320  \n",
            "13         17.84        6.350  \n",
            "14         46.02       17.440  \n",
            "15         38.20        9.965  \n",
            "16        369.00      212.000  \n",
            "17        412.20        9.610  \n",
            "18         95.77       64.890  \n",
            "19         24.95        3.150  \n"
          ]
        }
      ]
    },
    {
      "cell_type": "markdown",
      "source": [
        "## Bonus Challenge\n",
        "- Allow users to fetch data for different modules dynamically.\n",
        "- Format currency values properly (e.g., `$1,500,000,000` instead of `1500000000`).\n"
      ],
      "metadata": {
        "id": "saimqA-MdlNe"
      }
    },
    {
      "cell_type": "code",
      "source": [
        "MODULE_MAP = {\n",
        "    \"52 Week High\": \"summaryDetail\",\n",
        "    \"52 Week Low\": \"summaryDetail\",\n",
        "    \"Return on Assets\": \"financialData\"\n",
        "}\n",
        "\n",
        "# format as currency if number, else N/A\n",
        "def format_currency(value):\n",
        "    if isinstance(value, (int, float)):\n",
        "        return f\"${value:,.2f}\"\n",
        "    return \"N/A\"\n",
        "\n",
        "def get_stock_details(symbols, modules):\n",
        "    stock_data = []\n",
        "\n",
        "    # map user-selected modules to API modules\n",
        "    selected_modules = [MODULE_MAP.get(module, \"\") for module in modules if module in MODULE_MAP]\n",
        "\n",
        "    if not selected_modules:\n",
        "        print(\"No valid modules selected.\")\n",
        "        return pd.DataFrame()\n",
        "\n",
        "    # add price module to always get company name + price\n",
        "    querystring = {\"modules\": \",\".join(set(selected_modules + [\"price\"]))}\n",
        "    headers = {'x-api-key': API_KEY}\n",
        "\n",
        "    for symbol in symbols:\n",
        "        response = requests.get(f\"{QUOTE_SUMMARY_URL}/{symbol}\", headers=headers, params=querystring)\n",
        "\n",
        "        if response.status_code == 200:\n",
        "            data = response.json().get(\"quoteSummary\", {}).get(\"result\", [])\n",
        "\n",
        "            if not data:\n",
        "                print(f\"No data found for {symbol}.\")\n",
        "                continue\n",
        "\n",
        "            item = data[0]\n",
        "            price_info = item.get(\"price\", {})\n",
        "            company_name = price_info.get(\"longName\", \"N/A\")\n",
        "            current_price = format_currency(price_info.get(\"regularMarketPrice\", {}).get(\"raw\", \"N/A\"))\n",
        "\n",
        "            stock_info = {\n",
        "                \"Stock Ticker\": symbol,\n",
        "                \"Company\": company_name,\n",
        "                \"Current Price\": current_price,\n",
        "            }\n",
        "\n",
        "            # pull requested modules from API response\n",
        "            for module in modules:\n",
        "                if module == \"52 Week High\":\n",
        "                    stock_info[\"52 Week High\"] = format_currency(\n",
        "                        item.get(\"summaryDetail\", {}).get(\"fiftyTwoWeekHigh\", {}).get(\"raw\", \"N/A\")\n",
        "                    )\n",
        "                elif module == \"52 Week Low\":\n",
        "                    stock_info[\"52 Week Low\"] = format_currency(\n",
        "                        item.get(\"summaryDetail\", {}).get(\"fiftyTwoWeekLow\", {}).get(\"raw\", \"N/A\")\n",
        "                    )\n",
        "                elif module == \"Return on Assets\":\n",
        "                    return_on_assets = item.get(\"financialData\", {}).get(\"returnOnAssets\", {}).get(\"raw\")\n",
        "                    stock_info[\"Return on Assets\"] = f\"{return_on_assets * 100:.2f}%\" if return_on_assets else \"N/A\"\n",
        "\n",
        "            stock_data.append(stock_info)\n",
        "\n",
        "        else:\n",
        "            print(f\"Failed to fetch details for {symbol}. Status Code: {response.status_code}\")\n",
        "\n",
        "    return pd.DataFrame(stock_data)\n",
        "\n",
        "trending_symbols = get_trending_stocks()\n",
        "\n",
        "# user picks what modules\n",
        "if trending_symbols:\n",
        "    print(\"Available Modules: 52 Week High, 52 Week Low, Return on Assets\")\n",
        "    selected_modules = input(\"Enter the modules you want (comma-separated): \").split(\", \")\n",
        "\n",
        "    stock_df = get_stock_details(trending_symbols, selected_modules)\n",
        "    print(stock_df)\n",
        "else:\n",
        "    print(\"No trending stocks to display.\")"
      ],
      "metadata": {
        "colab": {
          "base_uri": "https://localhost:8080/"
        },
        "id": "LD7f9JPFdpk_",
        "outputId": "d5bcafa8-08e0-43a4-b886-6e265629f5f9"
      },
      "execution_count": null,
      "outputs": [
        {
          "output_type": "stream",
          "name": "stdout",
          "text": [
            "Available Modules: 52 Week High, 52 Week Low, Return on Assets\n",
            "Enter the modules you want (comma-separated): 52 Week High, 52 Week Low\n",
            "   Stock Ticker                                 Company Current Price  \\\n",
            "0          SMCI              Super Micro Computer, Inc.        $45.54   \n",
            "1          TSLA                             Tesla, Inc.       $302.80   \n",
            "2          LCID                       Lucid Group, Inc.         $2.61   \n",
            "3          CAVA                        CAVA Group, Inc.        $99.30   \n",
            "4          WDAY                           Workday, Inc.       $255.22   \n",
            "5          NVDA                      NVIDIA Corporation       $126.63   \n",
            "6          ONVO                 Organovo Holdings, Inc.         $1.27   \n",
            "7          LMND                          Lemonade, Inc.        $31.99   \n",
            "8          FSLR                       First Solar, Inc.       $147.46   \n",
            "9          AXON                   Axon Enterprise, Inc.       $496.65   \n",
            "10         INTU                             Intuit Inc.       $555.63   \n",
            "11          AMC        AMC Entertainment Holdings, Inc.         $3.27   \n",
            "12         CPNG                           Coupang, Inc.        $24.17   \n",
            "13         DNUT                      Krispy Kreme, Inc.         $7.13   \n",
            "14           LI                            Li Auto Inc.        $29.84   \n",
            "15         ZETA              Zeta Global Holdings Corp.        $20.60   \n",
            "16          CRM                        Salesforce, Inc.       $305.88   \n",
            "17         SMCX  Defiance Daily Target 2X Long SMCI ETF        $69.22   \n",
            "18          SRE                                  Sempra        $70.64   \n",
            "19         LUNR                Intuitive Machines, Inc.        $15.40   \n",
            "\n",
            "   52 Week High 52 Week Low  \n",
            "0       $122.90      $17.25  \n",
            "1       $488.54     $138.80  \n",
            "2         $4.43       $1.93  \n",
            "3       $172.43      $54.21  \n",
            "4       $298.50     $199.81  \n",
            "5       $153.13      $75.61  \n",
            "6         $1.83       $0.32  \n",
            "7        $53.85      $14.03  \n",
            "8       $306.77     $145.77  \n",
            "9       $715.99     $273.52  \n",
            "10      $714.78     $553.31  \n",
            "11       $11.88       $2.38  \n",
            "12       $26.91      $17.32  \n",
            "13       $17.84       $6.35  \n",
            "14       $46.02      $17.44  \n",
            "15       $38.20       $9.96  \n",
            "16      $369.00     $212.00  \n",
            "17      $412.20       $9.61  \n",
            "18       $95.77      $64.89  \n",
            "19       $24.95       $3.15  \n"
          ]
        }
      ]
    },
    {
      "cell_type": "markdown",
      "source": [
        "# Bonus Challenge 2: Where is Elon’s Plane Right NOW?"
      ],
      "metadata": {
        "id": "y-qHIiprEIcn"
      }
    },
    {
      "cell_type": "code",
      "source": [
        "import requests\n",
        "import datetime\n",
        "\n",
        "URL = \"https://opensky-network.org/api/states/all\"\n",
        "\n",
        "ICAO24 = \"a835af\"\n",
        "\n",
        "def get_musk_plane_location():\n",
        "    response = requests.get(URL)\n",
        "\n",
        "    if response.status_code == 200:\n",
        "        data = response.json()\n",
        "\n",
        "        flights = data.get(\"states\", [])\n",
        "\n",
        "        for flight in flights:\n",
        "            if flight[0].lower() == ICAO24:\n",
        "                timestamp = datetime.datetime.utcfromtimestamp(flight[3]).strftime('%Y-%m-%d %H:%M:%S UTC')\n",
        "                latitude = flight[6]\n",
        "                longitude = flight[5]\n",
        "                altitude = flight[7]\n",
        "                velocity = flight[9]\n",
        "\n",
        "                return {\n",
        "                    \"Timestamp\": timestamp,\n",
        "                    \"Latitude\": latitude,\n",
        "                    \"Longitude\": longitude,\n",
        "                    \"Altitude (m)\": altitude,\n",
        "                    \"Velocity (m/s)\": velocity\n",
        "                }\n",
        "\n",
        "        return \"Elon Musk's plane is not currently tracked.\"\n",
        "\n",
        "    else:\n",
        "        return f\"Failed to fetch data, HTTP Status Code: {response.status_code}\"\n",
        "\n",
        "plane_data = get_musk_plane_location()\n",
        "print(plane_data)"
      ],
      "metadata": {
        "id": "eRSobqZMELFw",
        "colab": {
          "base_uri": "https://localhost:8080/"
        },
        "outputId": "73406bf9-affa-4bd2-d53a-6d53d9534970"
      },
      "execution_count": 4,
      "outputs": [
        {
          "output_type": "stream",
          "name": "stdout",
          "text": [
            "Elon Musk's plane is not currently tracked.\n"
          ]
        }
      ]
    },
    {
      "cell_type": "markdown",
      "source": [
        "According to https://opensky-network.org/aircraft-profile?icao24=a835af, the plane is not being tracked."
      ],
      "metadata": {
        "id": "23LIuDiNn-j3"
      }
    }
  ]
}