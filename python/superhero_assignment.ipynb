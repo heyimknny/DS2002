{
  "cells": [
    {
      "cell_type": "markdown",
      "metadata": {
        "id": "view-in-github",
        "colab_type": "text"
      },
      "source": [
        "<a href=\"https://colab.research.google.com/github/heyimknny/DS2002/blob/main/python/superhero_assignment.ipynb\" target=\"_parent\"><img src=\"https://colab.research.google.com/assets/colab-badge.svg\" alt=\"Open In Colab\"/></a>"
      ]
    },
    {
      "cell_type": "markdown",
      "id": "5fa8dcf6",
      "metadata": {
        "id": "5fa8dcf6"
      },
      "source": [
        "# Superhero Database Assignment (SQLite & Google Colab)\n",
        "\n",
        "## Objective\n",
        "In this assignment, you will design and implement a **Superhero Database** using SQLite in Google Colab. This database will store superheroes, villains, and their battles. You will write SQL queries to analyze battle outcomes and relationships between heroes and villains.\n",
        "\n",
        "### Group Size:\n",
        "- 2 to 3 students per group.\n",
        "\n",
        "### Tools Required:\n",
        "- **Google Colab**\n",
        "- **SQLite (built into Python)**\n",
        "- **CSV files (provided for import)**"
      ]
    },
    {
      "cell_type": "markdown",
      "id": "5535e625",
      "metadata": {
        "id": "5535e625"
      },
      "source": [
        "## Step 1: Setting Up Your SQLite Database\n",
        "\n",
        "### Tasks:\n",
        "1. Initialize SQLite in Google Colab.\n",
        "2. Create a database named `superhero_db.sqlite`.\n",
        "3. Define the database schema, ensuring it includes the following tables:\n",
        "   - `heroes`: Stores superhero names, powers, and teams.\n",
        "   - `villains`: Stores villains and their evil plans.\n",
        "   - `battles`: Tracks battles between heroes and villains, including the outcome.\n",
        "4. Implement primary keys and foreign keys where appropriate.\n",
        "\n",
        "✅ **Checkpoint:** Ensure that the database and tables have been successfully created."
      ]
    },
    {
      "cell_type": "code",
      "source": [
        "import sqlite3\n",
        "\n",
        "# Connect to an in-memory SQLite database\n",
        "conn = sqlite3.connect('superhero_db.sqlite')\n",
        "cursor = conn.cursor()\n",
        "\n",
        "# DDL statements (using SQLite syntax)\n",
        "ddl_statements = '''\n",
        "DROP TABLE IF EXISTS heroes;\n",
        "DROP TABLE IF EXISTS villains;\n",
        "DROP TABLE IF EXISTS battles;\n",
        "\n",
        "CREATE TABLE heroes (\n",
        "    id INTEGER PRIMARY KEY AUTOINCREMENT,\n",
        "    name VARCHAR(50) NOT NULL,\n",
        "    power VARCHAR(50) NOT NULL,\n",
        "    team VARCHAR(50) NOT NULL\n",
        ");\n",
        "\n",
        "CREATE TABLE villains (\n",
        "    id INTEGER PRIMARY KEY AUTOINCREMENT,\n",
        "    name VARCHAR(50) NOT NULL,\n",
        "    evil_plan VARCHAR(100) NOT NULL\n",
        ");\n",
        "\n",
        "CREATE TABLE battles (\n",
        "    id INTEGER PRIMARY KEY AUTOINCREMENT,\n",
        "    hero_id INTEGER NOT NULL,\n",
        "    villain_id INTEGER NOT NULL,\n",
        "    outcome VARCHAR(50) NOT NULL,\n",
        "    FOREIGN KEY (hero_id) REFERENCES heroes(id),\n",
        "    FOREIGN KEY (villain_id) REFERENCES villains(id)\n",
        ");\n",
        "\n",
        "'''\n",
        "\n",
        "# Execute the DDL script\n",
        "cursor.executescript(ddl_statements)\n",
        "conn.commit()\n",
        "print('Database schema created successfully.')"
      ],
      "metadata": {
        "id": "iy2HgPyGxizs",
        "outputId": "baea16df-b4ee-45f4-da44-2aac261b2799",
        "colab": {
          "base_uri": "https://localhost:8080/"
        }
      },
      "id": "iy2HgPyGxizs",
      "execution_count": null,
      "outputs": [
        {
          "output_type": "stream",
          "name": "stdout",
          "text": [
            "Database schema created successfully.\n"
          ]
        }
      ]
    },
    {
      "cell_type": "markdown",
      "id": "154b3c3a",
      "metadata": {
        "id": "154b3c3a"
      },
      "source": [
        "## Step 2: Import Data from CSV Files\n",
        "\n",
        "### Tasks:\n",
        "1. Download the provided CSV files.\n",
        "2. Upload them to Google Colab.\n",
        "3. Write a script to import data from these files into the appropriate tables.\n",
        "4. Verify that the data has been successfully inserted.\n",
        "\n",
        "✅ **Checkpoint:** Ensure that each table contains the expected data from the CSV files."
      ]
    },
    {
      "cell_type": "code",
      "source": [
        "import pandas as pd\n",
        "\n",
        "df_heroes = pd.read_csv('heroes.csv')\n",
        "df_villains = pd.read_csv('villains.csv')\n",
        "df_battles = pd.read_csv('battles.csv')\n",
        "print(df_heroes.head())\n",
        "print(df_villains.head())\n",
        "print(df_battles.head())"
      ],
      "metadata": {
        "id": "4mrFzCJe07mQ",
        "outputId": "06950ac9-8da7-4075-fa67-681a90551fa6",
        "colab": {
          "base_uri": "https://localhost:8080/"
        }
      },
      "id": "4mrFzCJe07mQ",
      "execution_count": null,
      "outputs": [
        {
          "output_type": "stream",
          "name": "stdout",
          "text": [
            "   id        name             power            team\n",
            "0   1  Spider-Man      Web-slinging        Avengers\n",
            "1   2    Iron Man     Powered Armor        Avengers\n",
            "2   3      Batman  Genius Detective  Justice League\n",
            "3   4    Superman    Super Strength  Justice League\n",
            "4   5        Thor    God of Thunder        Avengers\n",
            "   id          name                           evil_plan\n",
            "0   1  Green Goblin                  Terrorize New York\n",
            "1   2        Thanos         Collect all Infinity Stones\n",
            "2   3         Joker              Spread chaos in Gotham\n",
            "3   4    Lex Luthor                     Defeat Superman\n",
            "4   5          Loki  Trick humanity into worshiping him\n",
            "   id  hero_id  villain_id       outcome\n",
            "0   1        1          10  Villain Wins\n",
            "1   2        9           3     Hero Wins\n",
            "2   3        8           1          Draw\n",
            "3   4        5           4  Villain Wins\n",
            "4   5        1           7     Hero Wins\n"
          ]
        }
      ]
    },
    {
      "cell_type": "code",
      "source": [
        "\n",
        "df_heroes.to_sql('heroes', conn, if_exists='replace', index=False)\n",
        "print(\"Data from heroes.csv has been inserted into the sales table.\")\n",
        "\n",
        "df_villains.to_sql('villains', conn, if_exists='replace', index=False)\n",
        "print(\"Data from villains.csv has been inserted into the sales table.\")\n",
        "\n",
        "df_battles.to_sql('battles', conn, if_exists='replace', index=False)\n",
        "print(\"Data from battles.csv has been inserted into the sales table.\")\n",
        "\n"
      ],
      "metadata": {
        "id": "FcVFXS3n3hW5",
        "colab": {
          "base_uri": "https://localhost:8080/"
        },
        "outputId": "a5c343ed-61c2-430a-f71f-dc36a09e22b9"
      },
      "id": "FcVFXS3n3hW5",
      "execution_count": null,
      "outputs": [
        {
          "output_type": "stream",
          "name": "stdout",
          "text": [
            "Data from heroes.csv has been inserted into the sales table.\n",
            "Data from villains.csv has been inserted into the sales table.\n",
            "Data from battles.csv has been inserted into the sales table.\n"
          ]
        }
      ]
    },
    {
      "cell_type": "markdown",
      "id": "33548d9f",
      "metadata": {
        "id": "33548d9f"
      },
      "source": [
        "## Step 3: Querying the Database\n",
        "\n",
        "### Tasks:\n",
        "Write SQL queries to answer the following:\n",
        "1. Retrieve all superheroes and their powers.\n",
        "2. Find all battles where the hero won.\n",
        "3. List all villains and their evil plans.\n",
        "4. Determine which superhero has fought the most battles.\n",
        "\n",
        "✅ **Checkpoint:** Ensure that all queries return meaningful results from the database."
      ]
    },
    {
      "cell_type": "code",
      "source": [
        "#Query 1\n",
        "cursor.execute(\"SELECT name, power FROM heroes\")\n",
        "rows = cursor.fetchall()\n",
        "# Display the data\n",
        "print(\"Heroes and their Powers:\")\n",
        "for row in rows:\n",
        "    print(row)\n",
        "\n",
        "#Query 2\n",
        "cursor.execute(\"SELECT * FROM battles WHERE outcome LIKE 'Hero Wins'\")\n",
        "rows = cursor.fetchall()\n",
        "# Display the data\n",
        "print(\"\\nBattles where Heroes Win:\")\n",
        "for row in rows:\n",
        "    print(row)\n",
        "\n",
        "#Query 3\n",
        "cursor.execute(\"SELECT name, evil_plan FROM villains\")\n",
        "rows = cursor.fetchall()\n",
        "# Display the data\n",
        "print(\"\\nVillains and their Evil Plans:\")\n",
        "for row in rows:\n",
        "    print(row)\n",
        "\n",
        "#Query 4\n",
        "cursor.execute(\"\"\"SELECT h.name, COUNT(b.id) AS battle_count\n",
        "FROM heroes h JOIN battles b ON h.id = b.hero_id\n",
        "GROUP BY h.id\n",
        "ORDER BY battle_count DESC\n",
        "LIMIT 1\n",
        "\"\"\")\n",
        "rows = cursor.fetchall()\n",
        "\n",
        "# Display the data\n",
        "print(\"\\nSuperhero with the Most Battles:\")\n",
        "for row in rows:\n",
        "    print(row)"
      ],
      "metadata": {
        "colab": {
          "base_uri": "https://localhost:8080/"
        },
        "id": "ejyIqKdp4h87",
        "outputId": "6a789ccc-a64c-47db-9abf-00322340a764"
      },
      "id": "ejyIqKdp4h87",
      "execution_count": null,
      "outputs": [
        {
          "output_type": "stream",
          "name": "stdout",
          "text": [
            "Heroes and their Powers:\n",
            "('Spider-Man', 'Web-slinging')\n",
            "('Iron Man', 'Powered Armor')\n",
            "('Batman', 'Genius Detective')\n",
            "('Superman', 'Super Strength')\n",
            "('Thor', 'God of Thunder')\n",
            "('Wonder Woman', 'Amazonian Strength')\n",
            "('Black Panther', 'Enhanced Agility')\n",
            "('The Flash', 'Super Speed')\n",
            "('Hulk', 'Super Strength')\n",
            "('Doctor Strange', 'Mystic Arts')\n",
            "\n",
            "Battles where Heroes Win:\n",
            "(2, 9, 3, 'Hero Wins')\n",
            "(5, 1, 7, 'Hero Wins')\n",
            "(7, 9, 8, 'Hero Wins')\n",
            "(8, 3, 2, 'Hero Wins')\n",
            "(9, 7, 5, 'Hero Wins')\n",
            "(13, 8, 9, 'Hero Wins')\n",
            "(20, 3, 4, 'Hero Wins')\n",
            "(29, 3, 5, 'Hero Wins')\n",
            "(30, 5, 5, 'Hero Wins')\n",
            "\n",
            "Villains and their Evil Plans:\n",
            "('Green Goblin', 'Terrorize New York')\n",
            "('Thanos', 'Collect all Infinity Stones')\n",
            "('Joker', 'Spread chaos in Gotham')\n",
            "('Lex Luthor', 'Defeat Superman')\n",
            "('Loki', 'Trick humanity into worshiping him')\n",
            "('Ultron', 'AI world domination')\n",
            "('Darkseid', 'Control the universe')\n",
            "('Venom', 'Consume Spider-Man')\n",
            "('Magneto', 'Mutant supremacy')\n",
            "('Red Skull', 'Revive Hydra')\n",
            "\n",
            "Superhero with the Most Battles:\n",
            "('Batman', 7)\n"
          ]
        }
      ]
    },
    {
      "cell_type": "markdown",
      "id": "de8bda94",
      "metadata": {
        "id": "de8bda94"
      },
      "source": [
        "## Step 4: Add a Custom Feature\n",
        "\n",
        "### Tasks:\n",
        "1. Design and implement an additional table related to superheroes or villains.\n",
        "2. Populate it with data.\n",
        "3. Write at least one query to retrieve meaningful insights from the new table.\n",
        "\n",
        "**Examples of Custom Features:**\n",
        "- Sidekicks for superheroes\n",
        "- Villain hideouts\n",
        "- Battle locations\n",
        "- Superhero equipment\n",
        "\n",
        "✅ **Checkpoint:** Ensure that the new table and queries function correctly."
      ]
    },
    {
      "cell_type": "code",
      "source": [
        "#Create table with the love interests of heroes\n",
        "newTable = '''\n",
        "DROP TABLE IF EXISTS loveInterests;\n",
        "\n",
        "CREATE TABLE loveInterests (\n",
        "    id INTEGER PRIMARY KEY AUTOINCREMENT,\n",
        "    name VARCHAR(50) NOT NULL,\n",
        "    hero_id INTEGER NOT NULL,\n",
        "    FOREIGN KEY (hero_id) REFERENCES heroes(id)\n",
        ");\n",
        "'''\n",
        "\n",
        "cursor.executescript(newTable)\n",
        "conn.commit()\n",
        "print('Love Interest table created successfully.')\n"
      ],
      "metadata": {
        "id": "zOcYBi7o9HUu",
        "outputId": "5056c6f0-0968-4dd7-eb0c-89f0cfc1ecd9",
        "colab": {
          "base_uri": "https://localhost:8080/"
        }
      },
      "id": "zOcYBi7o9HUu",
      "execution_count": null,
      "outputs": [
        {
          "output_type": "stream",
          "name": "stdout",
          "text": [
            "Love Interest table created successfully.\n"
          ]
        }
      ]
    },
    {
      "cell_type": "code",
      "source": [
        "#Insert data into table\n",
        "\n",
        "# Extended love interests data with multiple love interests for some heroes\n",
        "love_interests_data = [\n",
        "    (\"Mary Jane Watson\", 1),    # Spider-Man\n",
        "    (\"Black Cat\", 1),           # Spider-Man\n",
        "    (\"Silk\", 1),                # Spider-Man\n",
        "    (\"Pepper Potts\", 2),        # Iron Man\n",
        "    (\"Catwoman\", 3),            # Batman\n",
        "    (\"Lois Lane\", 4),           # Superman\n",
        "    (\"Jane Foster\", 5),         # Thor\n",
        "    (\"Steve Trevor\", 6),        # Wonder Woman\n",
        "    (\"Christine Palmer\", 10),   # Doctor Strange\n",
        "    (\"Nakia\", 7)                 # Black Panther\n",
        "]\n",
        "\n",
        "cursor.executemany('''\n",
        "    INSERT INTO loveInterests (name, hero_id)\n",
        "    VALUES (?, ?)\n",
        "''', love_interests_data)\n",
        "\n",
        "conn.commit()\n",
        "print(\"Love interests data inserted successfully.\")"
      ],
      "metadata": {
        "id": "hnWn_124-ekc",
        "outputId": "226cd6b1-1ce5-4ce8-ac5e-21dc3e56cdf9",
        "colab": {
          "base_uri": "https://localhost:8080/"
        }
      },
      "id": "hnWn_124-ekc",
      "execution_count": null,
      "outputs": [
        {
          "output_type": "stream",
          "name": "stdout",
          "text": [
            "Love interests data inserted successfully.\n"
          ]
        }
      ]
    },
    {
      "cell_type": "code",
      "source": [
        "# Query 1: Select all love interests\n",
        "cursor.execute(\"\"\"SELECT l.name, h.name\n",
        "FROM loveInterests l JOIN heroes h ON l.hero_id = h.id\n",
        "ORDER BY h.name;\n",
        "\"\"\")\n",
        "rows = cursor.fetchall()\n",
        "# Display the data\n",
        "print(\"\\nLove Interests and their Hero:\")\n",
        "for row in rows:\n",
        "    print(row)\n",
        "\n",
        "# Query 2: Select all love interests of Spiderman\n",
        "cursor.execute(\"\"\"SELECT l.name FROM loveInterests l JOIN heroes h ON l.hero_id = h.id\n",
        "WHERE h.name LIKE 'Spider-Man';\n",
        "\"\"\")\n",
        "rows = cursor.fetchall()\n",
        "# Display the data\n",
        "print(\"\\nLove Interests of Spider-Man:\")\n",
        "for row in rows:\n",
        "    print(row)\n",
        "\n",
        "# Query 3: Select all HEROES WITHOUT a love interest\n",
        "cursor.execute(\"\"\"SELECT h.id, h.name\n",
        "FROM heroes h LEFT JOIN loveInterests l ON h.id = l.hero_id\n",
        "WHERE l.id IS NULL;\n",
        "\"\"\")\n",
        "rows = cursor.fetchall()\n",
        "# Display the data\n",
        "print(\"\\nHeroes without a love interest:\")\n",
        "for row in rows:\n",
        "    print(row)"
      ],
      "metadata": {
        "id": "Lva_x_TP_ns5",
        "outputId": "951ca067-d65d-44b5-e1a9-37168d0da387",
        "colab": {
          "base_uri": "https://localhost:8080/"
        }
      },
      "id": "Lva_x_TP_ns5",
      "execution_count": null,
      "outputs": [
        {
          "output_type": "stream",
          "name": "stdout",
          "text": [
            "\n",
            "Love Interests and their Hero:\n",
            "('Catwoman', 'Batman')\n",
            "('Nakia', 'Black Panther')\n",
            "('Christine Palmer', 'Doctor Strange')\n",
            "('Pepper Potts', 'Iron Man')\n",
            "('Mary Jane Watson', 'Spider-Man')\n",
            "('Black Cat', 'Spider-Man')\n",
            "('Silk', 'Spider-Man')\n",
            "('Lois Lane', 'Superman')\n",
            "('Jane Foster', 'Thor')\n",
            "('Steve Trevor', 'Wonder Woman')\n",
            "\n",
            "Love Interests of Spider-Man:\n",
            "('Black Cat',)\n",
            "('Mary Jane Watson',)\n",
            "('Silk',)\n",
            "\n",
            "Heroes without a love interest:\n",
            "(8, 'The Flash')\n",
            "(9, 'Hulk')\n"
          ]
        }
      ]
    },
    {
      "cell_type": "markdown",
      "id": "9bf43fe6",
      "metadata": {
        "id": "9bf43fe6"
      },
      "source": [
        "## Bonus Challenge (+5 Points)\n",
        "\n",
        "### Tasks:\n",
        "1. Enhance your project by adding a visual or interactive component.\n",
        "\n",
        "**Options:**\n",
        "- Visualize battles using Matplotlib (e.g., a bar chart showing how many battles each superhero has fought).\n",
        "- Make it interactive (e.g., allow users to input a superhero name and display their battles).\n",
        "\n",
        "✅ **Checkpoint:** If attempting the bonus, ensure that your visualization or interactive component works correctly."
      ]
    },
    {
      "cell_type": "code",
      "source": [
        "import matplotlib.pyplot as plt\n",
        "\n",
        "# Bar chart for overall outcomes of all battles\n",
        "battleOutcomes= \"\"\"SELECT outcome, COUNT(*) AS count FROM battles\n",
        "GROUP BY outcome;\n",
        "\"\"\"\n",
        "\n",
        "df_outcomes = pd.read_sql_query(battleOutcomes, conn)\n",
        "\n",
        "plt.figure(figsize=(8,6))\n",
        "plt.bar(df_outcomes['outcome'], df_outcomes['count'], color=['gray', 'cyan', 'red'])\n",
        "plt.title('Battle Outcomes')\n",
        "plt.xlabel('Outcome')\n",
        "plt.ylabel('Number of Battles')"
      ],
      "metadata": {
        "id": "ZuxuiL5FBu06",
        "outputId": "3159713e-9030-4691-e393-01e5a64dd252",
        "colab": {
          "base_uri": "https://localhost:8080/",
          "height": 581
        }
      },
      "id": "ZuxuiL5FBu06",
      "execution_count": null,
      "outputs": [
        {
          "output_type": "execute_result",
          "data": {
            "text/plain": [
              "Text(0, 0.5, 'Number of Battles')"
            ]
          },
          "metadata": {},
          "execution_count": 86
        },
        {
          "output_type": "display_data",
          "data": {
            "text/plain": [
              "<Figure size 800x600 with 1 Axes>"
            ],
            "image/png": "[encoded data removed]"
          },
          "metadata": {}
        }
      ]
    },
    {
      "cell_type": "markdown",
      "id": "89f56c05",
      "metadata": {
        "id": "89f56c05"
      },
      "source": [
        "## Submission Guidelines\n",
        "\n",
        "Each group must submit a **Google Colab Notebook (.ipynb)** containing:\n",
        "- ✅ **Database schema (DDL)**\n",
        "- ✅ **CSV imports & data insertion (DML)**\n",
        "- ✅ **SQL queries & results**\n",
        "- ✅ **Custom feature (bonus if applicable)**"
      ]
    },
    {
      "cell_type": "markdown",
      "id": "61477c9b",
      "metadata": {
        "id": "61477c9b"
      },
      "source": [
        "## Grading Criteria (Total: 25 Points)\n",
        "\n",
        "| Section                 | Points |\n",
        "|-------------------------|--------|\n",
        "| Database Setup          | 5      |\n",
        "| Data Importing         | 10     |\n",
        "| Querying the Data      | 10     |\n",
        "| Extra Feature          | 5      |\n",
        "| Bonus Challenge (Optional) | +5  |"
      ]
    },
    {
      "cell_type": "markdown",
      "id": "92bf6839",
      "metadata": {
        "id": "92bf6839"
      },
      "source": [
        "### Final Notes:\n",
        "- Be **creative** when designing superheroes and villains.\n",
        "- **Comment your code** to explain its functionality.\n",
        "- **Have fun** building your superhero universe!"
      ]
    }
  ],
  "metadata": {
    "colab": {
      "provenance": [],
      "include_colab_link": true
    },
    "language_info": {
      "name": "python"
    },
    "kernelspec": {
      "name": "python3",
      "display_name": "Python 3"
    }
  },
  "nbformat": 4,
  "nbformat_minor": 5
}